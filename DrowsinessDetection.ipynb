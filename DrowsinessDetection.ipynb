{
  "nbformat": 4,
  "nbformat_minor": 0,
  "metadata": {
    "colab": {
      "provenance": [],
      "gpuType": "T4"
    },
    "kernelspec": {
      "name": "python3",
      "display_name": "Python 3"
    },
    "language_info": {
      "name": "python"
    },
    "accelerator": "GPU"
  },
  "cells": [
    {
      "cell_type": "code",
      "execution_count": null,
      "metadata": {
        "colab": {
          "base_uri": "https://localhost:8080/"
        },
        "id": "XpA7hPIHq_jt",
        "outputId": "1ec0fc1d-7d61-4249-ab8c-607c308078b0"
      },
      "outputs": [
        {
          "output_type": "stream",
          "name": "stdout",
          "text": [
            "Reading package lists... Done\n",
            "Building dependency tree... Done\n",
            "Reading state information... Done\n",
            "cmake is already the newest version (3.22.1-1ubuntu1.22.04.2).\n",
            "0 upgraded, 0 newly installed, 0 to remove and 34 not upgraded.\n",
            "--2025-05-25 07:29:48--  http://dlib.net/files/shape_predictor_68_face_landmarks.dat.bz2\n",
            "Resolving dlib.net (dlib.net)... 107.180.26.78\n",
            "Connecting to dlib.net (dlib.net)|107.180.26.78|:80... connected.\n",
            "HTTP request sent, awaiting response... 301 Moved Permanently\n",
            "Location: https://dlib.net/files/shape_predictor_68_face_landmarks.dat.bz2 [following]\n",
            "--2025-05-25 07:29:49--  https://dlib.net/files/shape_predictor_68_face_landmarks.dat.bz2\n",
            "Connecting to dlib.net (dlib.net)|107.180.26.78|:443... connected.\n",
            "HTTP request sent, awaiting response... 200 OK\n",
            "Length: 64040097 (61M)\n",
            "Saving to: ‘shape_predictor_68_face_landmarks.dat.bz2’\n",
            "\n",
            "shape_predictor_68_ 100%[===================>]  61.07M  14.2MB/s    in 5.5s    \n",
            "\n",
            "2025-05-25 07:29:55 (11.0 MB/s) - ‘shape_predictor_68_face_landmarks.dat.bz2’ saved [64040097/64040097]\n",
            "\n"
          ]
        }
      ],
      "source": [
        "!pip install -q opencv-python dlib imutils tensorflow\n",
        "!apt-get install -y cmake\n",
        "!wget http://dlib.net/files/shape_predictor_68_face_landmarks.dat.bz2\n",
        "!bzip2 -d shape_predictor_68_face_landmarks.dat.bz2\n"
      ]
    },
    {
      "cell_type": "code",
      "source": [
        "from google.colab import files\n",
        "files.upload()  # Upload kaggle.json when prompted\n"
      ],
      "metadata": {
        "colab": {
          "base_uri": "https://localhost:8080/",
          "height": 90
        },
        "id": "nWJrvBXuxAiC",
        "outputId": "ec3eedd4-c652-401f-e9b3-70458f8d197c"
      },
      "execution_count": null,
      "outputs": [
        {
          "output_type": "display_data",
          "data": {
            "text/plain": [
              "<IPython.core.display.HTML object>"
            ],
            "text/html": [
              "\n",
              "     <input type=\"file\" id=\"files-a3afacce-f58e-4a80-8c91-51896600442d\" name=\"files[]\" multiple disabled\n",
              "        style=\"border:none\" />\n",
              "     <output id=\"result-a3afacce-f58e-4a80-8c91-51896600442d\">\n",
              "      Upload widget is only available when the cell has been executed in the\n",
              "      current browser session. Please rerun this cell to enable.\n",
              "      </output>\n",
              "      <script>// Copyright 2017 Google LLC\n",
              "//\n",
              "// Licensed under the Apache License, Version 2.0 (the \"License\");\n",
              "// you may not use this file except in compliance with the License.\n",
              "// You may obtain a copy of the License at\n",
              "//\n",
              "//      http://www.apache.org/licenses/LICENSE-2.0\n",
              "//\n",
              "// Unless required by applicable law or agreed to in writing, software\n",
              "// distributed under the License is distributed on an \"AS IS\" BASIS,\n",
              "// WITHOUT WARRANTIES OR CONDITIONS OF ANY KIND, either express or implied.\n",
              "// See the License for the specific language governing permissions and\n",
              "// limitations under the License.\n",
              "\n",
              "/**\n",
              " * @fileoverview Helpers for google.colab Python module.\n",
              " */\n",
              "(function(scope) {\n",
              "function span(text, styleAttributes = {}) {\n",
              "  const element = document.createElement('span');\n",
              "  element.textContent = text;\n",
              "  for (const key of Object.keys(styleAttributes)) {\n",
              "    element.style[key] = styleAttributes[key];\n",
              "  }\n",
              "  return element;\n",
              "}\n",
              "\n",
              "// Max number of bytes which will be uploaded at a time.\n",
              "const MAX_PAYLOAD_SIZE = 100 * 1024;\n",
              "\n",
              "function _uploadFiles(inputId, outputId) {\n",
              "  const steps = uploadFilesStep(inputId, outputId);\n",
              "  const outputElement = document.getElementById(outputId);\n",
              "  // Cache steps on the outputElement to make it available for the next call\n",
              "  // to uploadFilesContinue from Python.\n",
              "  outputElement.steps = steps;\n",
              "\n",
              "  return _uploadFilesContinue(outputId);\n",
              "}\n",
              "\n",
              "// This is roughly an async generator (not supported in the browser yet),\n",
              "// where there are multiple asynchronous steps and the Python side is going\n",
              "// to poll for completion of each step.\n",
              "// This uses a Promise to block the python side on completion of each step,\n",
              "// then passes the result of the previous step as the input to the next step.\n",
              "function _uploadFilesContinue(outputId) {\n",
              "  const outputElement = document.getElementById(outputId);\n",
              "  const steps = outputElement.steps;\n",
              "\n",
              "  const next = steps.next(outputElement.lastPromiseValue);\n",
              "  return Promise.resolve(next.value.promise).then((value) => {\n",
              "    // Cache the last promise value to make it available to the next\n",
              "    // step of the generator.\n",
              "    outputElement.lastPromiseValue = value;\n",
              "    return next.value.response;\n",
              "  });\n",
              "}\n",
              "\n",
              "/**\n",
              " * Generator function which is called between each async step of the upload\n",
              " * process.\n",
              " * @param {string} inputId Element ID of the input file picker element.\n",
              " * @param {string} outputId Element ID of the output display.\n",
              " * @return {!Iterable<!Object>} Iterable of next steps.\n",
              " */\n",
              "function* uploadFilesStep(inputId, outputId) {\n",
              "  const inputElement = document.getElementById(inputId);\n",
              "  inputElement.disabled = false;\n",
              "\n",
              "  const outputElement = document.getElementById(outputId);\n",
              "  outputElement.innerHTML = '';\n",
              "\n",
              "  const pickedPromise = new Promise((resolve) => {\n",
              "    inputElement.addEventListener('change', (e) => {\n",
              "      resolve(e.target.files);\n",
              "    });\n",
              "  });\n",
              "\n",
              "  const cancel = document.createElement('button');\n",
              "  inputElement.parentElement.appendChild(cancel);\n",
              "  cancel.textContent = 'Cancel upload';\n",
              "  const cancelPromise = new Promise((resolve) => {\n",
              "    cancel.onclick = () => {\n",
              "      resolve(null);\n",
              "    };\n",
              "  });\n",
              "\n",
              "  // Wait for the user to pick the files.\n",
              "  const files = yield {\n",
              "    promise: Promise.race([pickedPromise, cancelPromise]),\n",
              "    response: {\n",
              "      action: 'starting',\n",
              "    }\n",
              "  };\n",
              "\n",
              "  cancel.remove();\n",
              "\n",
              "  // Disable the input element since further picks are not allowed.\n",
              "  inputElement.disabled = true;\n",
              "\n",
              "  if (!files) {\n",
              "    return {\n",
              "      response: {\n",
              "        action: 'complete',\n",
              "      }\n",
              "    };\n",
              "  }\n",
              "\n",
              "  for (const file of files) {\n",
              "    const li = document.createElement('li');\n",
              "    li.append(span(file.name, {fontWeight: 'bold'}));\n",
              "    li.append(span(\n",
              "        `(${file.type || 'n/a'}) - ${file.size} bytes, ` +\n",
              "        `last modified: ${\n",
              "            file.lastModifiedDate ? file.lastModifiedDate.toLocaleDateString() :\n",
              "                                    'n/a'} - `));\n",
              "    const percent = span('0% done');\n",
              "    li.appendChild(percent);\n",
              "\n",
              "    outputElement.appendChild(li);\n",
              "\n",
              "    const fileDataPromise = new Promise((resolve) => {\n",
              "      const reader = new FileReader();\n",
              "      reader.onload = (e) => {\n",
              "        resolve(e.target.result);\n",
              "      };\n",
              "      reader.readAsArrayBuffer(file);\n",
              "    });\n",
              "    // Wait for the data to be ready.\n",
              "    let fileData = yield {\n",
              "      promise: fileDataPromise,\n",
              "      response: {\n",
              "        action: 'continue',\n",
              "      }\n",
              "    };\n",
              "\n",
              "    // Use a chunked sending to avoid message size limits. See b/62115660.\n",
              "    let position = 0;\n",
              "    do {\n",
              "      const length = Math.min(fileData.byteLength - position, MAX_PAYLOAD_SIZE);\n",
              "      const chunk = new Uint8Array(fileData, position, length);\n",
              "      position += length;\n",
              "\n",
              "      const base64 = btoa(String.fromCharCode.apply(null, chunk));\n",
              "      yield {\n",
              "        response: {\n",
              "          action: 'append',\n",
              "          file: file.name,\n",
              "          data: base64,\n",
              "        },\n",
              "      };\n",
              "\n",
              "      let percentDone = fileData.byteLength === 0 ?\n",
              "          100 :\n",
              "          Math.round((position / fileData.byteLength) * 100);\n",
              "      percent.textContent = `${percentDone}% done`;\n",
              "\n",
              "    } while (position < fileData.byteLength);\n",
              "  }\n",
              "\n",
              "  // All done.\n",
              "  yield {\n",
              "    response: {\n",
              "      action: 'complete',\n",
              "    }\n",
              "  };\n",
              "}\n",
              "\n",
              "scope.google = scope.google || {};\n",
              "scope.google.colab = scope.google.colab || {};\n",
              "scope.google.colab._files = {\n",
              "  _uploadFiles,\n",
              "  _uploadFilesContinue,\n",
              "};\n",
              "})(self);\n",
              "</script> "
            ]
          },
          "metadata": {}
        },
        {
          "output_type": "stream",
          "name": "stdout",
          "text": [
            "Saving kaggle.json to kaggle.json\n"
          ]
        },
        {
          "output_type": "execute_result",
          "data": {
            "text/plain": [
              "{'kaggle.json': b'{\"username\":\"anushadaya\",\"key\":\"b0277c7cc020cbe7805a3a8764cb4b5c\"}'}"
            ]
          },
          "metadata": {},
          "execution_count": 4
        }
      ]
    },
    {
      "cell_type": "code",
      "source": [
        "!mkdir -p ~/.kaggle\n",
        "!cp kaggle.json ~/.kaggle/\n",
        "!chmod 600 ~/.kaggle/kaggle.json\n"
      ],
      "metadata": {
        "id": "F0t85yLGxHky"
      },
      "execution_count": null,
      "outputs": []
    },
    {
      "cell_type": "code",
      "source": [
        "!kaggle datasets download -d akashshingha850/mrl-eye-dataset\n",
        "!unzip -q mrl-eye-dataset.zip -d /content/MRL_eye_dataset\n"
      ],
      "metadata": {
        "colab": {
          "base_uri": "https://localhost:8080/"
        },
        "id": "SHOXGqroxMPe",
        "outputId": "f1dd9f24-8b26-4e4a-8abe-64b9f2059a01"
      },
      "execution_count": null,
      "outputs": [
        {
          "output_type": "stream",
          "name": "stdout",
          "text": [
            "Dataset URL: https://www.kaggle.com/datasets/akashshingha850/mrl-eye-dataset\n",
            "License(s): MIT\n",
            "Downloading mrl-eye-dataset.zip to /content\n",
            " 99% 326M/329M [00:01<00:00, 253MB/s]\n",
            "100% 329M/329M [00:02<00:00, 136MB/s]\n"
          ]
        }
      ]
    },
    {
      "cell_type": "code",
      "source": [
        "!kaggle datasets download -d davidvazquezcic/yawn-dataset\n",
        "!unzip -q yawn-dataset.zip -d /content/Yawn_Dataset\n"
      ],
      "metadata": {
        "colab": {
          "base_uri": "https://localhost:8080/"
        },
        "id": "HuNP5Zg1xiOI",
        "outputId": "c4b9e6b2-1cc2-4be0-852c-9d46f9d08fae"
      },
      "execution_count": null,
      "outputs": [
        {
          "output_type": "stream",
          "name": "stdout",
          "text": [
            "Dataset URL: https://www.kaggle.com/datasets/davidvazquezcic/yawn-dataset\n",
            "License(s): CC-BY-NC-SA-4.0\n",
            "Downloading yawn-dataset.zip to /content\n",
            "  0% 0.00/16.9M [00:00<?, ?B/s]\n",
            "100% 16.9M/16.9M [00:00<00:00, 1.08GB/s]\n"
          ]
        }
      ]
    },
    {
      "cell_type": "code",
      "source": [
        "from google.colab import drive\n",
        "drive.mount('/content/drive')"
      ],
      "metadata": {
        "colab": {
          "base_uri": "https://localhost:8080/"
        },
        "id": "H-QHJnReKma6",
        "outputId": "3833a0be-bd86-4b09-f1b0-ec7716691242"
      },
      "execution_count": null,
      "outputs": [
        {
          "output_type": "stream",
          "name": "stdout",
          "text": [
            "Drive already mounted at /content/drive; to attempt to forcibly remount, call drive.mount(\"/content/drive\", force_remount=True).\n"
          ]
        }
      ]
    },
    {
      "cell_type": "code",
      "source": [
        "import os\n",
        "import cv2\n",
        "import numpy as np\n",
        "from glob import glob\n",
        "from sklearn.model_selection import train_test_split\n",
        "from tensorflow.keras.preprocessing.image import ImageDataGenerator\n",
        "\n",
        "def augment_data(images, labels):\n",
        "    datagen = ImageDataGenerator(\n",
        "        rotation_range=10,\n",
        "        width_shift_range=0.1,\n",
        "        height_shift_range=0.1,\n",
        "        shear_range=0.1,\n",
        "        zoom_range=0.1,\n",
        "        horizontal_flip=True,\n",
        "        fill_mode='nearest'\n",
        "    )\n",
        "    augmented_images, augmented_labels = [], []\n",
        "    for img, label in zip(images, labels):\n",
        "        # Ensure img shape is (1, 50, 50, 1) for flow method\n",
        "        img = img.reshape(1, 50, 50, 1)\n",
        "        # Generate 5 augmented images per original image\n",
        "        aug_iter = datagen.flow(img, batch_size=1)\n",
        "        for _ in range(5):\n",
        "            aug_img = next(aug_iter)[0]  # shape: (50, 50, 1)\n",
        "            augmented_images.append(aug_img)\n",
        "            augmented_labels.append(label)\n",
        "    return np.array(augmented_images), np.array(augmented_labels)\n",
        "\n",
        "def load_images(folder, label):\n",
        "    data = []\n",
        "    for filename in glob(os.path.join(folder, '*')):\n",
        "        img = cv2.imread(filename, cv2.IMREAD_GRAYSCALE)\n",
        "        if img is None:\n",
        "            continue\n",
        "        img = cv2.resize(img, (50, 50))\n",
        "        img = img.astype('float32') / 255.0  # convert to float32 and normalize\n",
        "        data.append((img, label))\n",
        "    return data\n",
        "\n",
        "# Load MRL Eye Dataset\n",
        "eye_open = load_images('/content/MRL_eye_dataset/data/train/awake', 0)\n",
        "eye_closed = load_images('/content/MRL_eye_dataset/data/train/sleepy', 1)\n",
        "\n",
        "# Load Yawn Dataset\n",
        "yawn = load_images('/content/Yawn_Dataset/yawn', 1)\n",
        "no_yawn = load_images('/content/Yawn_Dataset/no_yawn', 0)\n",
        "\n",
        "eye_data = eye_open + eye_closed\n",
        "mouth_data = yawn + no_yawn\n",
        "\n",
        "def prepare_dataset(data):\n",
        "    X = np.array([img.reshape(50, 50, 1) for img, _ in data], dtype=np.float32)\n",
        "    y = np.array([label for _, label in data], dtype=np.int32)\n",
        "    return train_test_split(X, y, test_size=0.2, random_state=42)\n",
        "\n",
        "X_eye_train, X_eye_test, y_eye_train, y_eye_test = prepare_dataset(eye_data)\n",
        "X_mouth_train, X_mouth_test, y_mouth_train, y_mouth_test = prepare_dataset(mouth_data)\n",
        "\n",
        "# Convert grayscale mouth images to 3-channel RGB for MobileNet input\n",
        "X_mouth_train_rgb = np.repeat(X_mouth_train, 3, axis=-1)\n",
        "X_mouth_test_rgb = np.repeat(X_mouth_test, 3, axis=-1)\n",
        "\n",
        "# Augment mouth training data (grayscale)\n",
        "X_mouth_train_aug, y_mouth_train_aug = augment_data(X_mouth_train, y_mouth_train)\n",
        "\n",
        "# Combine original and augmented mouth training data\n",
        "X_mouth_train = np.concatenate([X_mouth_train, X_mouth_train_aug], axis=0)\n",
        "y_mouth_train = np.concatenate([y_mouth_train, y_mouth_train_aug], axis=0)\n",
        "\n",
        "# Make sure to convert augmented mouth train grayscale images to RGB for MobileNet as well\n",
        "X_mouth_train_rgb_aug = np.repeat(X_mouth_train_aug, 3, axis=-1)\n",
        "X_mouth_train_rgb = np.concatenate([X_mouth_train_rgb, X_mouth_train_rgb_aug], axis=0)\n",
        "\n",
        "from tensorflow.keras.models import Sequential\n",
        "from tensorflow.keras.layers import Conv2D, MaxPooling2D, Flatten, Dense, Dropout, BatchNormalization\n",
        "from tensorflow.keras.optimizers import Adam\n",
        "from tensorflow.keras.applications import MobileNetV2\n",
        "from tensorflow.keras.models import Model\n",
        "from tensorflow.keras.layers import GlobalAveragePooling2D, Dense\n",
        "\n",
        "def build_cnn(conv_layers):\n",
        "    model = Sequential()\n",
        "    model.add(Conv2D(conv_layers[0], (3, 3), activation='relu', input_shape=(50, 50, 1)))\n",
        "    model.add(MaxPooling2D(2, 2))\n",
        "    model.add(BatchNormalization())\n",
        "    model.add(Dropout(0.3))\n",
        "\n",
        "    for filters in conv_layers[1:]:\n",
        "        model.add(Conv2D(filters, (3, 3), activation='relu'))\n",
        "        model.add(MaxPooling2D(2, 2))\n",
        "        model.add(BatchNormalization())\n",
        "        model.add(Dropout(0.4))\n",
        "\n",
        "    model.add(Flatten())\n",
        "    model.add(Dense(128, activation='relu'))\n",
        "    model.add(Dropout(0.5))\n",
        "    model.add(Dense(1, activation='sigmoid'))\n",
        "    model.compile(optimizer=Adam(learning_rate=0.001), loss='binary_crossentropy', metrics=['accuracy'])\n",
        "    return model\n",
        "\n",
        "def build_pretrained_mouth_model():\n",
        "    base_model = MobileNetV2(weights='imagenet', include_top=False, input_shape=(50, 50, 3))\n",
        "    for layer in base_model.layers:\n",
        "        layer.trainable = False\n",
        "\n",
        "    x = base_model.output\n",
        "    x = GlobalAveragePooling2D()(x)\n",
        "    x = Dense(128, activation='relu')(x)\n",
        "    x = Dropout(0.5)(x)\n",
        "    output = Dense(1, activation='sigmoid')(x)\n",
        "\n",
        "    model = Model(inputs=base_model.input, outputs=output)\n",
        "    model.compile(optimizer=Adam(learning_rate=0.001), loss='binary_crossentropy', metrics=['accuracy'])\n",
        "    return model\n"
      ],
      "metadata": {
        "id": "Sn_8pVY2yLQU"
      },
      "execution_count": null,
      "outputs": []
    },
    {
      "cell_type": "code",
      "source": [
        "# Build and train eye models\n",
        "eye_cnn1 = build_cnn([32, 64])\n",
        "eye_cnn2 = build_cnn([32, 64, 128])\n",
        "eye_cnn3 = build_cnn([64, 128, 256])\n",
        "\n",
        "eye_cnn1.fit(X_eye_train, y_eye_train, epochs=10, validation_split=0.1, batch_size=64)\n",
        "eye_cnn2.fit(X_eye_train, y_eye_train, epochs=10, validation_split=0.1, batch_size=64)\n",
        "eye_cnn3.fit(X_eye_train, y_eye_train, epochs=10, validation_split=0.1, batch_size=64)\n",
        "\n",
        "# Build and train mouth models\n",
        "mouth_cnn1 = build_cnn([32, 64])\n",
        "mouth_cnn2 = build_cnn([32, 64, 128])\n",
        "mouth_cnn3 = build_cnn([64, 128, 256])\n",
        "\n",
        "mouth_cnn1.fit(X_mouth_train, y_mouth_train, epochs=10, validation_split=0.1, batch_size=64)\n",
        "mouth_cnn2.fit(X_mouth_train, y_mouth_train, epochs=10, validation_split=0.1, batch_size=64)\n",
        "mouth_cnn3.fit(X_mouth_train, y_mouth_train, epochs=10, validation_split=0.1, batch_size=64)\n",
        "\n",
        "mouth_pretrained_model = build_pretrained_mouth_model()\n",
        "mouth_pretrained_model.fit(X_mouth_train_rgb, y_mouth_train, epochs=10, validation_split=0.1, batch_size=64)\n",
        "\n",
        "\n",
        "# Save Eye Models in the new Keras format\n",
        "eye_cnn1.save(\"eye_cnn1.keras\")\n",
        "eye_cnn2.save(\"eye_cnn2.keras\")\n",
        "eye_cnn3.save(\"eye_cnn3.keras\")\n",
        "\n",
        "# Save Mouth Models in the new Keras format\n",
        "mouth_cnn1.save(\"mouth_cnn1.keras\")\n",
        "mouth_cnn2.save(\"mouth_cnn2.keras\")\n",
        "mouth_cnn3.save(\"mouth_cnn3.keras\")\n"
      ],
      "metadata": {
        "colab": {
          "base_uri": "https://localhost:8080/"
        },
        "id": "t8OE8CwmyWyA",
        "outputId": "f6d8fa9c-4baa-4640-a31f-625ff765cbfb"
      },
      "execution_count": null,
      "outputs": [
        {
          "output_type": "stream",
          "name": "stderr",
          "text": [
            "/usr/local/lib/python3.11/dist-packages/keras/src/layers/convolutional/base_conv.py:107: UserWarning: Do not pass an `input_shape`/`input_dim` argument to a layer. When using Sequential models, prefer using an `Input(shape)` object as the first layer in the model instead.\n",
            "  super().__init__(activity_regularizer=activity_regularizer, **kwargs)\n"
          ]
        },
        {
          "output_type": "stream",
          "name": "stdout",
          "text": [
            "Epoch 1/10\n",
            "\u001b[1m574/574\u001b[0m \u001b[32m━━━━━━━━━━━━━━━━━━━━\u001b[0m\u001b[37m\u001b[0m \u001b[1m14s\u001b[0m 12ms/step - accuracy: 0.8831 - loss: 0.4387 - val_accuracy: 0.8339 - val_loss: 0.3699\n",
            "Epoch 2/10\n",
            "\u001b[1m574/574\u001b[0m \u001b[32m━━━━━━━━━━━━━━━━━━━━\u001b[0m\u001b[37m\u001b[0m \u001b[1m13s\u001b[0m 7ms/step - accuracy: 0.9521 - loss: 0.1365 - val_accuracy: 0.9467 - val_loss: 0.1534\n",
            "Epoch 3/10\n",
            "\u001b[1m574/574\u001b[0m \u001b[32m━━━━━━━━━━━━━━━━━━━━\u001b[0m\u001b[37m\u001b[0m \u001b[1m5s\u001b[0m 7ms/step - accuracy: 0.9647 - loss: 0.1019 - val_accuracy: 0.9664 - val_loss: 0.1074\n",
            "Epoch 4/10\n",
            "\u001b[1m574/574\u001b[0m \u001b[32m━━━━━━━━━━━━━━━━━━━━\u001b[0m\u001b[37m\u001b[0m \u001b[1m5s\u001b[0m 6ms/step - accuracy: 0.9687 - loss: 0.0875 - val_accuracy: 0.9760 - val_loss: 0.0754\n",
            "Epoch 5/10\n",
            "\u001b[1m574/574\u001b[0m \u001b[32m━━━━━━━━━━━━━━━━━━━━\u001b[0m\u001b[37m\u001b[0m \u001b[1m5s\u001b[0m 7ms/step - accuracy: 0.9725 - loss: 0.0743 - val_accuracy: 0.9764 - val_loss: 0.0816\n",
            "Epoch 6/10\n",
            "\u001b[1m574/574\u001b[0m \u001b[32m━━━━━━━━━━━━━━━━━━━━\u001b[0m\u001b[37m\u001b[0m \u001b[1m5s\u001b[0m 6ms/step - accuracy: 0.9740 - loss: 0.0711 - val_accuracy: 0.9708 - val_loss: 0.0744\n",
            "Epoch 7/10\n",
            "\u001b[1m574/574\u001b[0m \u001b[32m━━━━━━━━━━━━━━━━━━━━\u001b[0m\u001b[37m\u001b[0m \u001b[1m5s\u001b[0m 6ms/step - accuracy: 0.9761 - loss: 0.0656 - val_accuracy: 0.9799 - val_loss: 0.0594\n",
            "Epoch 8/10\n",
            "\u001b[1m574/574\u001b[0m \u001b[32m━━━━━━━━━━━━━━━━━━━━\u001b[0m\u001b[37m\u001b[0m \u001b[1m4s\u001b[0m 7ms/step - accuracy: 0.9788 - loss: 0.0594 - val_accuracy: 0.9848 - val_loss: 0.0471\n",
            "Epoch 9/10\n",
            "\u001b[1m574/574\u001b[0m \u001b[32m━━━━━━━━━━━━━━━━━━━━\u001b[0m\u001b[37m\u001b[0m \u001b[1m5s\u001b[0m 6ms/step - accuracy: 0.9776 - loss: 0.0608 - val_accuracy: 0.9762 - val_loss: 0.0689\n",
            "Epoch 10/10\n",
            "\u001b[1m574/574\u001b[0m \u001b[32m━━━━━━━━━━━━━━━━━━━━\u001b[0m\u001b[37m\u001b[0m \u001b[1m5s\u001b[0m 6ms/step - accuracy: 0.9819 - loss: 0.0532 - val_accuracy: 0.9617 - val_loss: 0.1136\n",
            "Epoch 1/10\n",
            "\u001b[1m574/574\u001b[0m \u001b[32m━━━━━━━━━━━━━━━━━━━━\u001b[0m\u001b[37m\u001b[0m \u001b[1m17s\u001b[0m 17ms/step - accuracy: 0.8806 - loss: 0.3350 - val_accuracy: 0.9193 - val_loss: 0.2135\n",
            "Epoch 2/10\n",
            "\u001b[1m574/574\u001b[0m \u001b[32m━━━━━━━━━━━━━━━━━━━━\u001b[0m\u001b[37m\u001b[0m \u001b[1m4s\u001b[0m 7ms/step - accuracy: 0.9516 - loss: 0.1273 - val_accuracy: 0.9252 - val_loss: 0.1755\n",
            "Epoch 3/10\n",
            "\u001b[1m574/574\u001b[0m \u001b[32m━━━━━━━━━━━━━━━━━━━━\u001b[0m\u001b[37m\u001b[0m \u001b[1m5s\u001b[0m 8ms/step - accuracy: 0.9622 - loss: 0.1044 - val_accuracy: 0.9750 - val_loss: 0.0678\n",
            "Epoch 4/10\n",
            "\u001b[1m574/574\u001b[0m \u001b[32m━━━━━━━━━━━━━━━━━━━━\u001b[0m\u001b[37m\u001b[0m \u001b[1m4s\u001b[0m 8ms/step - accuracy: 0.9683 - loss: 0.0888 - val_accuracy: 0.9799 - val_loss: 0.0612\n",
            "Epoch 5/10\n",
            "\u001b[1m574/574\u001b[0m \u001b[32m━━━━━━━━━━━━━━━━━━━━\u001b[0m\u001b[37m\u001b[0m \u001b[1m4s\u001b[0m 7ms/step - accuracy: 0.9725 - loss: 0.0785 - val_accuracy: 0.9681 - val_loss: 0.0927\n",
            "Epoch 6/10\n",
            "\u001b[1m574/574\u001b[0m \u001b[32m━━━━━━━━━━━━━━━━━━━━\u001b[0m\u001b[37m\u001b[0m \u001b[1m5s\u001b[0m 8ms/step - accuracy: 0.9750 - loss: 0.0661 - val_accuracy: 0.9266 - val_loss: 0.1716\n",
            "Epoch 7/10\n",
            "\u001b[1m574/574\u001b[0m \u001b[32m━━━━━━━━━━━━━━━━━━━━\u001b[0m\u001b[37m\u001b[0m \u001b[1m5s\u001b[0m 7ms/step - accuracy: 0.9763 - loss: 0.0659 - val_accuracy: 0.9737 - val_loss: 0.0716\n",
            "Epoch 8/10\n",
            "\u001b[1m574/574\u001b[0m \u001b[32m━━━━━━━━━━━━━━━━━━━━\u001b[0m\u001b[37m\u001b[0m \u001b[1m4s\u001b[0m 7ms/step - accuracy: 0.9767 - loss: 0.0647 - val_accuracy: 0.9291 - val_loss: 0.1561\n",
            "Epoch 9/10\n",
            "\u001b[1m574/574\u001b[0m \u001b[32m━━━━━━━━━━━━━━━━━━━━\u001b[0m\u001b[37m\u001b[0m \u001b[1m6s\u001b[0m 8ms/step - accuracy: 0.9781 - loss: 0.0605 - val_accuracy: 0.9659 - val_loss: 0.0819\n",
            "Epoch 10/10\n",
            "\u001b[1m574/574\u001b[0m \u001b[32m━━━━━━━━━━━━━━━━━━━━\u001b[0m\u001b[37m\u001b[0m \u001b[1m4s\u001b[0m 7ms/step - accuracy: 0.9802 - loss: 0.0573 - val_accuracy: 0.9652 - val_loss: 0.0980\n",
            "Epoch 1/10\n",
            "\u001b[1m574/574\u001b[0m \u001b[32m━━━━━━━━━━━━━━━━━━━━\u001b[0m\u001b[37m\u001b[0m \u001b[1m21s\u001b[0m 23ms/step - accuracy: 0.8795 - loss: 0.3954 - val_accuracy: 0.7752 - val_loss: 0.5415\n",
            "Epoch 2/10\n",
            "\u001b[1m574/574\u001b[0m \u001b[32m━━━━━━━━━━━━━━━━━━━━\u001b[0m\u001b[37m\u001b[0m \u001b[1m9s\u001b[0m 13ms/step - accuracy: 0.9549 - loss: 0.1225 - val_accuracy: 0.9406 - val_loss: 0.1868\n",
            "Epoch 3/10\n",
            "\u001b[1m574/574\u001b[0m \u001b[32m━━━━━━━━━━━━━━━━━━━━\u001b[0m\u001b[37m\u001b[0m \u001b[1m7s\u001b[0m 13ms/step - accuracy: 0.9669 - loss: 0.0952 - val_accuracy: 0.9193 - val_loss: 0.1984\n",
            "Epoch 4/10\n",
            "\u001b[1m574/574\u001b[0m \u001b[32m━━━━━━━━━━━━━━━━━━━━\u001b[0m\u001b[37m\u001b[0m \u001b[1m10s\u001b[0m 13ms/step - accuracy: 0.9714 - loss: 0.0841 - val_accuracy: 0.9234 - val_loss: 0.1772\n",
            "Epoch 5/10\n",
            "\u001b[1m574/574\u001b[0m \u001b[32m━━━━━━━━━━━━━━━━━━━━\u001b[0m\u001b[37m\u001b[0m \u001b[1m7s\u001b[0m 12ms/step - accuracy: 0.9733 - loss: 0.0701 - val_accuracy: 0.9632 - val_loss: 0.0931\n",
            "Epoch 6/10\n",
            "\u001b[1m574/574\u001b[0m \u001b[32m━━━━━━━━━━━━━━━━━━━━\u001b[0m\u001b[37m\u001b[0m \u001b[1m10s\u001b[0m 12ms/step - accuracy: 0.9789 - loss: 0.0617 - val_accuracy: 0.9840 - val_loss: 0.0443\n",
            "Epoch 7/10\n",
            "\u001b[1m574/574\u001b[0m \u001b[32m━━━━━━━━━━━━━━━━━━━━\u001b[0m\u001b[37m\u001b[0m \u001b[1m10s\u001b[0m 13ms/step - accuracy: 0.9782 - loss: 0.0629 - val_accuracy: 0.9210 - val_loss: 0.1708\n",
            "Epoch 8/10\n",
            "\u001b[1m574/574\u001b[0m \u001b[32m━━━━━━━━━━━━━━━━━━━━\u001b[0m\u001b[37m\u001b[0m \u001b[1m10s\u001b[0m 13ms/step - accuracy: 0.9800 - loss: 0.0581 - val_accuracy: 0.9843 - val_loss: 0.0429\n",
            "Epoch 9/10\n",
            "\u001b[1m574/574\u001b[0m \u001b[32m━━━━━━━━━━━━━━━━━━━━\u001b[0m\u001b[37m\u001b[0m \u001b[1m10s\u001b[0m 13ms/step - accuracy: 0.9797 - loss: 0.0553 - val_accuracy: 0.9634 - val_loss: 0.0994\n",
            "Epoch 10/10\n",
            "\u001b[1m574/574\u001b[0m \u001b[32m━━━━━━━━━━━━━━━━━━━━\u001b[0m\u001b[37m\u001b[0m \u001b[1m10s\u001b[0m 12ms/step - accuracy: 0.9804 - loss: 0.0528 - val_accuracy: 0.9789 - val_loss: 0.0510\n",
            "Epoch 1/10\n",
            "\u001b[1m346/346\u001b[0m \u001b[32m━━━━━━━━━━━━━━━━━━━━\u001b[0m\u001b[37m\u001b[0m \u001b[1m40s\u001b[0m 23ms/step - accuracy: 0.8699 - loss: 0.5019 - val_accuracy: 0.5503 - val_loss: 3.2641\n",
            "Epoch 2/10\n",
            "\u001b[1m346/346\u001b[0m \u001b[32m━━━━━━━━━━━━━━━━━━━━\u001b[0m\u001b[37m\u001b[0m \u001b[1m12s\u001b[0m 7ms/step - accuracy: 0.9616 - loss: 0.1215 - val_accuracy: 0.9210 - val_loss: 0.2345\n",
            "Epoch 3/10\n",
            "\u001b[1m346/346\u001b[0m \u001b[32m━━━━━━━━━━━━━━━━━━━━\u001b[0m\u001b[37m\u001b[0m \u001b[1m2s\u001b[0m 6ms/step - accuracy: 0.9693 - loss: 0.0947 - val_accuracy: 0.9434 - val_loss: 0.2721\n",
            "Epoch 4/10\n",
            "\u001b[1m346/346\u001b[0m \u001b[32m━━━━━━━━━━━━━━━━━━━━\u001b[0m\u001b[37m\u001b[0m \u001b[1m2s\u001b[0m 6ms/step - accuracy: 0.9776 - loss: 0.0715 - val_accuracy: 0.9678 - val_loss: 0.1110\n",
            "Epoch 5/10\n",
            "\u001b[1m346/346\u001b[0m \u001b[32m━━━━━━━━━━━━━━━━━━━━\u001b[0m\u001b[37m\u001b[0m \u001b[1m3s\u001b[0m 6ms/step - accuracy: 0.9787 - loss: 0.0610 - val_accuracy: 0.9565 - val_loss: 0.1978\n",
            "Epoch 6/10\n",
            "\u001b[1m346/346\u001b[0m \u001b[32m━━━━━━━━━━━━━━━━━━━━\u001b[0m\u001b[37m\u001b[0m \u001b[1m2s\u001b[0m 6ms/step - accuracy: 0.9791 - loss: 0.0618 - val_accuracy: 0.9508 - val_loss: 0.2140\n",
            "Epoch 7/10\n",
            "\u001b[1m346/346\u001b[0m \u001b[32m━━━━━━━━━━━━━━━━━━━━\u001b[0m\u001b[37m\u001b[0m \u001b[1m3s\u001b[0m 7ms/step - accuracy: 0.9831 - loss: 0.0521 - val_accuracy: 0.9756 - val_loss: 0.1022\n",
            "Epoch 8/10\n",
            "\u001b[1m346/346\u001b[0m \u001b[32m━━━━━━━━━━━━━━━━━━━━\u001b[0m\u001b[37m\u001b[0m \u001b[1m2s\u001b[0m 7ms/step - accuracy: 0.9825 - loss: 0.0489 - val_accuracy: 0.9105 - val_loss: 0.4383\n",
            "Epoch 9/10\n",
            "\u001b[1m346/346\u001b[0m \u001b[32m━━━━━━━━━━━━━━━━━━━━\u001b[0m\u001b[37m\u001b[0m \u001b[1m2s\u001b[0m 6ms/step - accuracy: 0.9847 - loss: 0.0460 - val_accuracy: 0.9613 - val_loss: 0.1990\n",
            "Epoch 10/10\n",
            "\u001b[1m346/346\u001b[0m \u001b[32m━━━━━━━━━━━━━━━━━━━━\u001b[0m\u001b[37m\u001b[0m \u001b[1m3s\u001b[0m 6ms/step - accuracy: 0.9846 - loss: 0.0430 - val_accuracy: 0.9772 - val_loss: 0.1037\n",
            "Epoch 1/10\n",
            "\u001b[1m346/346\u001b[0m \u001b[32m━━━━━━━━━━━━━━━━━━━━\u001b[0m\u001b[37m\u001b[0m \u001b[1m16s\u001b[0m 24ms/step - accuracy: 0.8674 - loss: 0.3699 - val_accuracy: 0.5503 - val_loss: 2.8099\n",
            "Epoch 2/10\n",
            "\u001b[1m346/346\u001b[0m \u001b[32m━━━━━━━━━━━━━━━━━━━━\u001b[0m\u001b[37m\u001b[0m \u001b[1m9s\u001b[0m 7ms/step - accuracy: 0.9575 - loss: 0.1251 - val_accuracy: 0.8299 - val_loss: 0.6103\n",
            "Epoch 3/10\n",
            "\u001b[1m346/346\u001b[0m \u001b[32m━━━━━━━━━━━━━━━━━━━━\u001b[0m\u001b[37m\u001b[0m \u001b[1m3s\u001b[0m 8ms/step - accuracy: 0.9633 - loss: 0.1097 - val_accuracy: 0.9442 - val_loss: 0.1584\n",
            "Epoch 4/10\n",
            "\u001b[1m346/346\u001b[0m \u001b[32m━━━━━━━━━━━━━━━━━━━━\u001b[0m\u001b[37m\u001b[0m \u001b[1m5s\u001b[0m 7ms/step - accuracy: 0.9682 - loss: 0.0962 - val_accuracy: 0.9670 - val_loss: 0.1130\n",
            "Epoch 5/10\n",
            "\u001b[1m346/346\u001b[0m \u001b[32m━━━━━━━━━━━━━━━━━━━━\u001b[0m\u001b[37m\u001b[0m \u001b[1m3s\u001b[0m 7ms/step - accuracy: 0.9724 - loss: 0.0829 - val_accuracy: 0.9528 - val_loss: 0.1526\n",
            "Epoch 6/10\n",
            "\u001b[1m346/346\u001b[0m \u001b[32m━━━━━━━━━━━━━━━━━━━━\u001b[0m\u001b[37m\u001b[0m \u001b[1m3s\u001b[0m 7ms/step - accuracy: 0.9752 - loss: 0.0722 - val_accuracy: 0.9560 - val_loss: 0.1532\n",
            "Epoch 7/10\n",
            "\u001b[1m346/346\u001b[0m \u001b[32m━━━━━━━━━━━━━━━━━━━━\u001b[0m\u001b[37m\u001b[0m \u001b[1m3s\u001b[0m 8ms/step - accuracy: 0.9786 - loss: 0.0638 - val_accuracy: 0.9695 - val_loss: 0.1082\n",
            "Epoch 8/10\n",
            "\u001b[1m346/346\u001b[0m \u001b[32m━━━━━━━━━━━━━━━━━━━━\u001b[0m\u001b[37m\u001b[0m \u001b[1m3s\u001b[0m 8ms/step - accuracy: 0.9770 - loss: 0.0653 - val_accuracy: 0.9609 - val_loss: 0.1844\n",
            "Epoch 9/10\n",
            "\u001b[1m346/346\u001b[0m \u001b[32m━━━━━━━━━━━━━━━━━━━━\u001b[0m\u001b[37m\u001b[0m \u001b[1m2s\u001b[0m 7ms/step - accuracy: 0.9767 - loss: 0.0652 - val_accuracy: 0.9776 - val_loss: 0.0885\n",
            "Epoch 10/10\n",
            "\u001b[1m346/346\u001b[0m \u001b[32m━━━━━━━━━━━━━━━━━━━━\u001b[0m\u001b[37m\u001b[0m \u001b[1m3s\u001b[0m 7ms/step - accuracy: 0.9811 - loss: 0.0543 - val_accuracy: 0.9678 - val_loss: 0.1289\n",
            "Epoch 1/10\n",
            "\u001b[1m346/346\u001b[0m \u001b[32m━━━━━━━━━━━━━━━━━━━━\u001b[0m\u001b[37m\u001b[0m \u001b[1m21s\u001b[0m 36ms/step - accuracy: 0.8717 - loss: 0.4047 - val_accuracy: 0.5503 - val_loss: 2.2408\n",
            "Epoch 2/10\n",
            "\u001b[1m346/346\u001b[0m \u001b[32m━━━━━━━━━━━━━━━━━━━━\u001b[0m\u001b[37m\u001b[0m \u001b[1m4s\u001b[0m 13ms/step - accuracy: 0.9617 - loss: 0.1190 - val_accuracy: 0.9198 - val_loss: 0.1996\n",
            "Epoch 3/10\n",
            "\u001b[1m346/346\u001b[0m \u001b[32m━━━━━━━━━━━━━━━━━━━━\u001b[0m\u001b[37m\u001b[0m \u001b[1m5s\u001b[0m 13ms/step - accuracy: 0.9677 - loss: 0.0986 - val_accuracy: 0.9650 - val_loss: 0.1356\n",
            "Epoch 4/10\n",
            "\u001b[1m346/346\u001b[0m \u001b[32m━━━━━━━━━━━━━━━━━━━━\u001b[0m\u001b[37m\u001b[0m \u001b[1m5s\u001b[0m 13ms/step - accuracy: 0.9694 - loss: 0.0864 - val_accuracy: 0.9687 - val_loss: 0.1102\n",
            "Epoch 5/10\n",
            "\u001b[1m346/346\u001b[0m \u001b[32m━━━━━━━━━━━━━━━━━━━━\u001b[0m\u001b[37m\u001b[0m \u001b[1m4s\u001b[0m 12ms/step - accuracy: 0.9739 - loss: 0.0760 - val_accuracy: 0.9796 - val_loss: 0.0804\n",
            "Epoch 6/10\n",
            "\u001b[1m346/346\u001b[0m \u001b[32m━━━━━━━━━━━━━━━━━━━━\u001b[0m\u001b[37m\u001b[0m \u001b[1m5s\u001b[0m 13ms/step - accuracy: 0.9791 - loss: 0.0616 - val_accuracy: 0.9707 - val_loss: 0.1048\n",
            "Epoch 7/10\n",
            "\u001b[1m346/346\u001b[0m \u001b[32m━━━━━━━━━━━━━━━━━━━━\u001b[0m\u001b[37m\u001b[0m \u001b[1m5s\u001b[0m 12ms/step - accuracy: 0.9815 - loss: 0.0539 - val_accuracy: 0.9434 - val_loss: 0.1838\n",
            "Epoch 8/10\n",
            "\u001b[1m346/346\u001b[0m \u001b[32m━━━━━━━━━━━━━━━━━━━━\u001b[0m\u001b[37m\u001b[0m \u001b[1m5s\u001b[0m 13ms/step - accuracy: 0.9804 - loss: 0.0526 - val_accuracy: 0.9727 - val_loss: 0.1148\n",
            "Epoch 9/10\n",
            "\u001b[1m346/346\u001b[0m \u001b[32m━━━━━━━━━━━━━━━━━━━━\u001b[0m\u001b[37m\u001b[0m \u001b[1m5s\u001b[0m 13ms/step - accuracy: 0.9854 - loss: 0.0438 - val_accuracy: 0.9752 - val_loss: 0.1130\n",
            "Epoch 10/10\n",
            "\u001b[1m346/346\u001b[0m \u001b[32m━━━━━━━━━━━━━━━━━━━━\u001b[0m\u001b[37m\u001b[0m \u001b[1m4s\u001b[0m 13ms/step - accuracy: 0.9850 - loss: 0.0437 - val_accuracy: 0.9756 - val_loss: 0.0938\n"
          ]
        },
        {
          "output_type": "stream",
          "name": "stderr",
          "text": [
            "<ipython-input-20-30ab3ee3757b>:103: UserWarning: `input_shape` is undefined or non-square, or `rows` is not in [96, 128, 160, 192, 224]. Weights for input shape (224, 224) will be loaded as the default.\n",
            "  base_model = MobileNetV2(weights='imagenet', include_top=False, input_shape=(50, 50, 3))\n"
          ]
        },
        {
          "output_type": "stream",
          "name": "stdout",
          "text": [
            "Epoch 1/10\n",
            "\u001b[1m346/346\u001b[0m \u001b[32m━━━━━━━━━━━━━━━━━━━━\u001b[0m\u001b[37m\u001b[0m \u001b[1m22s\u001b[0m 38ms/step - accuracy: 0.8942 - loss: 0.2614 - val_accuracy: 0.9345 - val_loss: 0.1818\n",
            "Epoch 2/10\n",
            "\u001b[1m346/346\u001b[0m \u001b[32m━━━━━━━━━━━━━━━━━━━━\u001b[0m\u001b[37m\u001b[0m \u001b[1m3s\u001b[0m 8ms/step - accuracy: 0.9472 - loss: 0.1373 - val_accuracy: 0.9361 - val_loss: 0.1829\n",
            "Epoch 3/10\n",
            "\u001b[1m346/346\u001b[0m \u001b[32m━━━━━━━━━━━━━━━━━━━━\u001b[0m\u001b[37m\u001b[0m \u001b[1m6s\u001b[0m 10ms/step - accuracy: 0.9542 - loss: 0.1150 - val_accuracy: 0.9418 - val_loss: 0.1741\n",
            "Epoch 4/10\n",
            "\u001b[1m346/346\u001b[0m \u001b[32m━━━━━━━━━━━━━━━━━━━━\u001b[0m\u001b[37m\u001b[0m \u001b[1m5s\u001b[0m 9ms/step - accuracy: 0.9604 - loss: 0.1037 - val_accuracy: 0.9430 - val_loss: 0.1740\n",
            "Epoch 5/10\n",
            "\u001b[1m346/346\u001b[0m \u001b[32m━━━━━━━━━━━━━━━━━━━━\u001b[0m\u001b[37m\u001b[0m \u001b[1m3s\u001b[0m 8ms/step - accuracy: 0.9685 - loss: 0.0849 - val_accuracy: 0.9442 - val_loss: 0.1800\n",
            "Epoch 6/10\n",
            "\u001b[1m346/346\u001b[0m \u001b[32m━━━━━━━━━━━━━━━━━━━━\u001b[0m\u001b[37m\u001b[0m \u001b[1m6s\u001b[0m 11ms/step - accuracy: 0.9688 - loss: 0.0799 - val_accuracy: 0.9451 - val_loss: 0.1776\n",
            "Epoch 7/10\n",
            "\u001b[1m346/346\u001b[0m \u001b[32m━━━━━━━━━━━━━━━━━━━━\u001b[0m\u001b[37m\u001b[0m \u001b[1m3s\u001b[0m 9ms/step - accuracy: 0.9758 - loss: 0.0658 - val_accuracy: 0.9426 - val_loss: 0.1740\n",
            "Epoch 8/10\n",
            "\u001b[1m346/346\u001b[0m \u001b[32m━━━━━━━━━━━━━━━━━━━━\u001b[0m\u001b[37m\u001b[0m \u001b[1m3s\u001b[0m 8ms/step - accuracy: 0.9788 - loss: 0.0549 - val_accuracy: 0.9426 - val_loss: 0.1811\n",
            "Epoch 9/10\n",
            "\u001b[1m346/346\u001b[0m \u001b[32m━━━━━━━━━━━━━━━━━━━━\u001b[0m\u001b[37m\u001b[0m \u001b[1m6s\u001b[0m 11ms/step - accuracy: 0.9807 - loss: 0.0520 - val_accuracy: 0.9463 - val_loss: 0.1863\n",
            "Epoch 10/10\n",
            "\u001b[1m346/346\u001b[0m \u001b[32m━━━━━━━━━━━━━━━━━━━━\u001b[0m\u001b[37m\u001b[0m \u001b[1m5s\u001b[0m 9ms/step - accuracy: 0.9817 - loss: 0.0492 - val_accuracy: 0.9471 - val_loss: 0.1825\n"
          ]
        }
      ]
    },
    {
      "cell_type": "code",
      "source": [
        "from google.colab import files\n",
        "\n",
        "# Download Eye Models\n",
        "files.download(\"eye_cnn1.keras\")\n",
        "files.download(\"eye_cnn2.keras\")\n",
        "files.download(\"eye_cnn3.keras\")\n",
        "\n",
        "# Download Mouth Models\n",
        "files.download(\"mouth_cnn1.keras\")\n",
        "files.download(\"mouth_cnn2.keras\")\n",
        "files.download(\"mouth_cnn3.keras\")\n"
      ],
      "metadata": {
        "colab": {
          "base_uri": "https://localhost:8080/",
          "height": 17
        },
        "id": "vIFo3s-e1f5j",
        "outputId": "ee624071-6d99-4339-8ad0-6eca6b32e977"
      },
      "execution_count": null,
      "outputs": [
        {
          "output_type": "display_data",
          "data": {
            "text/plain": [
              "<IPython.core.display.Javascript object>"
            ],
            "application/javascript": [
              "\n",
              "    async function download(id, filename, size) {\n",
              "      if (!google.colab.kernel.accessAllowed) {\n",
              "        return;\n",
              "      }\n",
              "      const div = document.createElement('div');\n",
              "      const label = document.createElement('label');\n",
              "      label.textContent = `Downloading \"${filename}\": `;\n",
              "      div.appendChild(label);\n",
              "      const progress = document.createElement('progress');\n",
              "      progress.max = size;\n",
              "      div.appendChild(progress);\n",
              "      document.body.appendChild(div);\n",
              "\n",
              "      const buffers = [];\n",
              "      let downloaded = 0;\n",
              "\n",
              "      const channel = await google.colab.kernel.comms.open(id);\n",
              "      // Send a message to notify the kernel that we're ready.\n",
              "      channel.send({})\n",
              "\n",
              "      for await (const message of channel.messages) {\n",
              "        // Send a message to notify the kernel that we're ready.\n",
              "        channel.send({})\n",
              "        if (message.buffers) {\n",
              "          for (const buffer of message.buffers) {\n",
              "            buffers.push(buffer);\n",
              "            downloaded += buffer.byteLength;\n",
              "            progress.value = downloaded;\n",
              "          }\n",
              "        }\n",
              "      }\n",
              "      const blob = new Blob(buffers, {type: 'application/binary'});\n",
              "      const a = document.createElement('a');\n",
              "      a.href = window.URL.createObjectURL(blob);\n",
              "      a.download = filename;\n",
              "      div.appendChild(a);\n",
              "      a.click();\n",
              "      div.remove();\n",
              "    }\n",
              "  "
            ]
          },
          "metadata": {}
        },
        {
          "output_type": "display_data",
          "data": {
            "text/plain": [
              "<IPython.core.display.Javascript object>"
            ],
            "application/javascript": [
              "download(\"download_88f7e52f-b9d5-4679-9a6b-d208e40c6763\", \"eye_cnn1.keras\", 12182887)"
            ]
          },
          "metadata": {}
        },
        {
          "output_type": "display_data",
          "data": {
            "text/plain": [
              "<IPython.core.display.Javascript object>"
            ],
            "application/javascript": [
              "\n",
              "    async function download(id, filename, size) {\n",
              "      if (!google.colab.kernel.accessAllowed) {\n",
              "        return;\n",
              "      }\n",
              "      const div = document.createElement('div');\n",
              "      const label = document.createElement('label');\n",
              "      label.textContent = `Downloading \"${filename}\": `;\n",
              "      div.appendChild(label);\n",
              "      const progress = document.createElement('progress');\n",
              "      progress.max = size;\n",
              "      div.appendChild(progress);\n",
              "      document.body.appendChild(div);\n",
              "\n",
              "      const buffers = [];\n",
              "      let downloaded = 0;\n",
              "\n",
              "      const channel = await google.colab.kernel.comms.open(id);\n",
              "      // Send a message to notify the kernel that we're ready.\n",
              "      channel.send({})\n",
              "\n",
              "      for await (const message of channel.messages) {\n",
              "        // Send a message to notify the kernel that we're ready.\n",
              "        channel.send({})\n",
              "        if (message.buffers) {\n",
              "          for (const buffer of message.buffers) {\n",
              "            buffers.push(buffer);\n",
              "            downloaded += buffer.byteLength;\n",
              "            progress.value = downloaded;\n",
              "          }\n",
              "        }\n",
              "      }\n",
              "      const blob = new Blob(buffers, {type: 'application/binary'});\n",
              "      const a = document.createElement('a');\n",
              "      a.href = window.URL.createObjectURL(blob);\n",
              "      a.download = filename;\n",
              "      div.appendChild(a);\n",
              "      a.click();\n",
              "      div.remove();\n",
              "    }\n",
              "  "
            ]
          },
          "metadata": {}
        },
        {
          "output_type": "display_data",
          "data": {
            "text/plain": [
              "<IPython.core.display.Javascript object>"
            ],
            "application/javascript": [
              "download(\"download_4505b521-e746-40f4-bb44-9deaf7b78773\", \"eye_cnn2.keras\", 4339648)"
            ]
          },
          "metadata": {}
        },
        {
          "output_type": "display_data",
          "data": {
            "text/plain": [
              "<IPython.core.display.Javascript object>"
            ],
            "application/javascript": [
              "\n",
              "    async function download(id, filename, size) {\n",
              "      if (!google.colab.kernel.accessAllowed) {\n",
              "        return;\n",
              "      }\n",
              "      const div = document.createElement('div');\n",
              "      const label = document.createElement('label');\n",
              "      label.textContent = `Downloading \"${filename}\": `;\n",
              "      div.appendChild(label);\n",
              "      const progress = document.createElement('progress');\n",
              "      progress.max = size;\n",
              "      div.appendChild(progress);\n",
              "      document.body.appendChild(div);\n",
              "\n",
              "      const buffers = [];\n",
              "      let downloaded = 0;\n",
              "\n",
              "      const channel = await google.colab.kernel.comms.open(id);\n",
              "      // Send a message to notify the kernel that we're ready.\n",
              "      channel.send({})\n",
              "\n",
              "      for await (const message of channel.messages) {\n",
              "        // Send a message to notify the kernel that we're ready.\n",
              "        channel.send({})\n",
              "        if (message.buffers) {\n",
              "          for (const buffer of message.buffers) {\n",
              "            buffers.push(buffer);\n",
              "            downloaded += buffer.byteLength;\n",
              "            progress.value = downloaded;\n",
              "          }\n",
              "        }\n",
              "      }\n",
              "      const blob = new Blob(buffers, {type: 'application/binary'});\n",
              "      const a = document.createElement('a');\n",
              "      a.href = window.URL.createObjectURL(blob);\n",
              "      a.download = filename;\n",
              "      div.appendChild(a);\n",
              "      a.click();\n",
              "      div.remove();\n",
              "    }\n",
              "  "
            ]
          },
          "metadata": {}
        },
        {
          "output_type": "display_data",
          "data": {
            "text/plain": [
              "<IPython.core.display.Javascript object>"
            ],
            "application/javascript": [
              "download(\"download_cbce6230-4b32-431f-a352-fb5d24d0515f\", \"eye_cnn3.keras\", 10816451)"
            ]
          },
          "metadata": {}
        },
        {
          "output_type": "display_data",
          "data": {
            "text/plain": [
              "<IPython.core.display.Javascript object>"
            ],
            "application/javascript": [
              "\n",
              "    async function download(id, filename, size) {\n",
              "      if (!google.colab.kernel.accessAllowed) {\n",
              "        return;\n",
              "      }\n",
              "      const div = document.createElement('div');\n",
              "      const label = document.createElement('label');\n",
              "      label.textContent = `Downloading \"${filename}\": `;\n",
              "      div.appendChild(label);\n",
              "      const progress = document.createElement('progress');\n",
              "      progress.max = size;\n",
              "      div.appendChild(progress);\n",
              "      document.body.appendChild(div);\n",
              "\n",
              "      const buffers = [];\n",
              "      let downloaded = 0;\n",
              "\n",
              "      const channel = await google.colab.kernel.comms.open(id);\n",
              "      // Send a message to notify the kernel that we're ready.\n",
              "      channel.send({})\n",
              "\n",
              "      for await (const message of channel.messages) {\n",
              "        // Send a message to notify the kernel that we're ready.\n",
              "        channel.send({})\n",
              "        if (message.buffers) {\n",
              "          for (const buffer of message.buffers) {\n",
              "            buffers.push(buffer);\n",
              "            downloaded += buffer.byteLength;\n",
              "            progress.value = downloaded;\n",
              "          }\n",
              "        }\n",
              "      }\n",
              "      const blob = new Blob(buffers, {type: 'application/binary'});\n",
              "      const a = document.createElement('a');\n",
              "      a.href = window.URL.createObjectURL(blob);\n",
              "      a.download = filename;\n",
              "      div.appendChild(a);\n",
              "      a.click();\n",
              "      div.remove();\n",
              "    }\n",
              "  "
            ]
          },
          "metadata": {}
        },
        {
          "output_type": "display_data",
          "data": {
            "text/plain": [
              "<IPython.core.display.Javascript object>"
            ],
            "application/javascript": [
              "download(\"download_22eeea02-6e62-42e3-a378-a9c7e382f176\", \"mouth_cnn1.keras\", 12182888)"
            ]
          },
          "metadata": {}
        },
        {
          "output_type": "display_data",
          "data": {
            "text/plain": [
              "<IPython.core.display.Javascript object>"
            ],
            "application/javascript": [
              "\n",
              "    async function download(id, filename, size) {\n",
              "      if (!google.colab.kernel.accessAllowed) {\n",
              "        return;\n",
              "      }\n",
              "      const div = document.createElement('div');\n",
              "      const label = document.createElement('label');\n",
              "      label.textContent = `Downloading \"${filename}\": `;\n",
              "      div.appendChild(label);\n",
              "      const progress = document.createElement('progress');\n",
              "      progress.max = size;\n",
              "      div.appendChild(progress);\n",
              "      document.body.appendChild(div);\n",
              "\n",
              "      const buffers = [];\n",
              "      let downloaded = 0;\n",
              "\n",
              "      const channel = await google.colab.kernel.comms.open(id);\n",
              "      // Send a message to notify the kernel that we're ready.\n",
              "      channel.send({})\n",
              "\n",
              "      for await (const message of channel.messages) {\n",
              "        // Send a message to notify the kernel that we're ready.\n",
              "        channel.send({})\n",
              "        if (message.buffers) {\n",
              "          for (const buffer of message.buffers) {\n",
              "            buffers.push(buffer);\n",
              "            downloaded += buffer.byteLength;\n",
              "            progress.value = downloaded;\n",
              "          }\n",
              "        }\n",
              "      }\n",
              "      const blob = new Blob(buffers, {type: 'application/binary'});\n",
              "      const a = document.createElement('a');\n",
              "      a.href = window.URL.createObjectURL(blob);\n",
              "      a.download = filename;\n",
              "      div.appendChild(a);\n",
              "      a.click();\n",
              "      div.remove();\n",
              "    }\n",
              "  "
            ]
          },
          "metadata": {}
        },
        {
          "output_type": "display_data",
          "data": {
            "text/plain": [
              "<IPython.core.display.Javascript object>"
            ],
            "application/javascript": [
              "download(\"download_296000db-6925-43a5-a0f4-fb5e5239a21c\", \"mouth_cnn2.keras\", 4339651)"
            ]
          },
          "metadata": {}
        },
        {
          "output_type": "display_data",
          "data": {
            "text/plain": [
              "<IPython.core.display.Javascript object>"
            ],
            "application/javascript": [
              "\n",
              "    async function download(id, filename, size) {\n",
              "      if (!google.colab.kernel.accessAllowed) {\n",
              "        return;\n",
              "      }\n",
              "      const div = document.createElement('div');\n",
              "      const label = document.createElement('label');\n",
              "      label.textContent = `Downloading \"${filename}\": `;\n",
              "      div.appendChild(label);\n",
              "      const progress = document.createElement('progress');\n",
              "      progress.max = size;\n",
              "      div.appendChild(progress);\n",
              "      document.body.appendChild(div);\n",
              "\n",
              "      const buffers = [];\n",
              "      let downloaded = 0;\n",
              "\n",
              "      const channel = await google.colab.kernel.comms.open(id);\n",
              "      // Send a message to notify the kernel that we're ready.\n",
              "      channel.send({})\n",
              "\n",
              "      for await (const message of channel.messages) {\n",
              "        // Send a message to notify the kernel that we're ready.\n",
              "        channel.send({})\n",
              "        if (message.buffers) {\n",
              "          for (const buffer of message.buffers) {\n",
              "            buffers.push(buffer);\n",
              "            downloaded += buffer.byteLength;\n",
              "            progress.value = downloaded;\n",
              "          }\n",
              "        }\n",
              "      }\n",
              "      const blob = new Blob(buffers, {type: 'application/binary'});\n",
              "      const a = document.createElement('a');\n",
              "      a.href = window.URL.createObjectURL(blob);\n",
              "      a.download = filename;\n",
              "      div.appendChild(a);\n",
              "      a.click();\n",
              "      div.remove();\n",
              "    }\n",
              "  "
            ]
          },
          "metadata": {}
        },
        {
          "output_type": "display_data",
          "data": {
            "text/plain": [
              "<IPython.core.display.Javascript object>"
            ],
            "application/javascript": [
              "download(\"download_4e13bdbd-9c9c-4fd3-8e9a-c9e20b2b7131\", \"mouth_cnn3.keras\", 10816454)"
            ]
          },
          "metadata": {}
        }
      ]
    },
    {
      "cell_type": "code",
      "source": [
        "def ensemble_predict(models, X, rgb_model_indices=None, weights=None):\n",
        "    \"\"\"\n",
        "    Generate predictions from an ensemble of models with differing input requirements.\n",
        "\n",
        "    Args:\n",
        "        models (list): List of models in the ensemble.\n",
        "        X (numpy.ndarray): Input data (grayscale or RGB, depending on the model).\n",
        "        rgb_model_indices (list): Indices of models that require RGB input.\n",
        "        weights (list): List of weights for averaging predictions. If None, equal weights are applied.\n",
        "\n",
        "    Returns:\n",
        "        numpy.ndarray: Final ensemble predictions.\n",
        "    \"\"\"\n",
        "    if rgb_model_indices is None:\n",
        "        rgb_model_indices = []\n",
        "\n",
        "    if weights is None:\n",
        "        weights = [1.0 / len(models)] * len(models)  # Equal weights by default\n",
        "\n",
        "    if len(weights) != len(models):\n",
        "        raise ValueError(\"Number of weights must match the number of models in the ensemble.\")\n",
        "\n",
        "    preds = []\n",
        "    for i, model in enumerate(models):\n",
        "        if i in rgb_model_indices:\n",
        "            # Convert grayscale to RGB for models requiring RGB input\n",
        "            X_input = np.repeat(X, 3, axis=-1)\n",
        "        else:\n",
        "            X_input = X\n",
        "\n",
        "        preds.append(model.predict(X_input, verbose=0).flatten())\n",
        "\n",
        "    preds = np.array(preds)\n",
        "    avg_preds = np.average(preds, axis=0, weights=weights)\n",
        "    return (avg_preds > 0.5).astype(int)\n",
        "\n",
        "\n",
        "# Define your ensembles\n",
        "eye_models = [eye_cnn1, eye_cnn2, eye_cnn3]\n",
        "mouth_models = [mouth_cnn1, mouth_cnn2, mouth_cnn3, mouth_pretrained_model]\n",
        "\n",
        "# Define indices of models that require RGB input in mouth_models (0-based indexing)\n",
        "rgb_model_indices = [3]  # Only mouth_pretrained_model\n",
        "\n",
        "# Define weights for averaging predictions\n",
        "eye_weights = [0.5, 0.3, 0.2]\n",
        "mouth_weights = [0.5, 0.3, 0.2, 0.5]\n",
        "\n",
        "# Evaluate Eye and Mouth Ensemble\n",
        "eye_pred = ensemble_predict(eye_models, X_eye_test, weights=eye_weights)\n",
        "mouth_pred = ensemble_predict(mouth_models, X_mouth_test, rgb_model_indices=rgb_model_indices, weights=mouth_weights)\n",
        "\n",
        "from sklearn.metrics import accuracy_score\n",
        "print(\"Eye Ensemble Accuracy:\", accuracy_score(y_eye_test, eye_pred))\n",
        "print(\"Updated Mouth Ensemble Accuracy:\", accuracy_score(y_mouth_test, mouth_pred))\n",
        "\n"
      ],
      "metadata": {
        "colab": {
          "base_uri": "https://localhost:8080/"
        },
        "id": "6Wq7r_PHyasI",
        "outputId": "5d7541c2-db57-4d2c-e91a-1dae5dfdd00b"
      },
      "execution_count": null,
      "outputs": [
        {
          "output_type": "stream",
          "name": "stdout",
          "text": [
            "Eye Ensemble Accuracy: 0.9720259128386337\n",
            "Updated Mouth Ensemble Accuracy: 0.984375\n"
          ]
        }
      ]
    },
    {
      "cell_type": "code",
      "source": [
        "import dlib\n",
        "from imutils import face_utils\n",
        "from tensorflow.keras.preprocessing.image import img_to_array\n",
        "\n",
        "face_detector = dlib.get_frontal_face_detector()\n",
        "landmark_predictor = dlib.shape_predictor(\"/content/drive/MyDrive/Drowsiness Proj/shape_predictor_68_face_landmarks.dat\")\n",
        "\n",
        "def detect_drowsiness(image, eye_models, mouth_models):\n",
        "    gray = cv2.cvtColor(image, cv2.COLOR_BGR2GRAY)\n",
        "    rects = face_detector(gray, 0)\n",
        "\n",
        "    for rect in rects:\n",
        "        shape = landmark_predictor(gray, rect)\n",
        "        shape = face_utils.shape_to_np(shape)\n",
        "\n",
        "        left_eye = shape[36:42]\n",
        "        right_eye = shape[42:48]\n",
        "        mouth = shape[48:68]\n",
        "\n",
        "        def crop_and_process(region):\n",
        "            x, y, w, h = cv2.boundingRect(np.array([region]))\n",
        "            roi = gray[y:y + h, x:x + w]\n",
        "            roi = cv2.resize(roi, (50, 50))\n",
        "            roi = roi.astype(\"float32\") / 255.0\n",
        "            return roi.reshape(1, 50, 50, 1)\n",
        "\n",
        "        left_eye_img = crop_and_process(left_eye)\n",
        "        right_eye_img = crop_and_process(right_eye)\n",
        "        mouth_img = crop_and_process(mouth)\n",
        "\n",
        "        eye_pred = (ensemble_predict(eye_models, left_eye_img)[0] + ensemble_predict(eye_models, right_eye_img)[0]) / 2\n",
        "        mouth_pred = ensemble_predict(mouth_models, mouth_img)[0]\n",
        "\n",
        "        if eye_pred == 1 or mouth_pred == 1:\n",
        "            print(\"⚠️ Drowsiness Detected!\")\n",
        "        else:\n",
        "            print(\"✅ Driver is Alert\")\n"
      ],
      "metadata": {
        "id": "hJ3iyurazPES"
      },
      "execution_count": null,
      "outputs": []
    },
    {
      "cell_type": "code",
      "source": [
        "frame = cv2.imread('/content/Yawn_Dataset/yawn/1000.jpg')  # Upload your test image\n",
        "detect_drowsiness(frame, eye_models, mouth_models)"
      ],
      "metadata": {
        "id": "YTjoTZgmkrZs"
      },
      "execution_count": null,
      "outputs": []
    }
  ]
}